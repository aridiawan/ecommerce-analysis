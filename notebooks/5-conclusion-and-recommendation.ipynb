{
 "cells": [
  {
   "cell_type": "markdown",
   "metadata": {},
   "source": [
    "## **5. Conclusion & Recommendation**"
   ]
  },
  {
   "cell_type": "markdown",
   "metadata": {},
   "source": [
    "### **5.1 Conclusion**"
   ]
  },
  {
   "cell_type": "markdown",
   "metadata": {},
   "source": [
    "1. Kesimpulan untuk kondsi retensi pelanggan Olist\n",
    "\n",
    "    * Terhitung sejak bulan September 2016 hingga Agustus 2018, sekitar 97% dari total pelanggan Olist hanya berbelanja 1x, diikuti dengan retention rate konsumen di perusahaan Olist sangat rendah, dimana pengguna baru yang melakukan transaksi berikutnya di bulan-bulan setelahnya tidak lebih dari 1%.\n",
    "\n",
    "2. Kesimpulan untuk analisis segmentasi \n",
    "\n",
    "    * Hasil evaluasi cluster RFM: Sekitar 36,49% dari total pelanggan di perusahaan Olist yang diamati dari bulan September 2016 hingga Agustus 2018 merupakan segmen Promising, lalu diikuti dengan segmen New Customers & Cannot Lose Them dengan nilai masing-masing sebesar 19,63% & 19,41%. Total ketiga segmen ini adalah 75,53% dari total keseluruhan pelanggan. \n",
    "        * Segmen Promising merupakan customer dengan rata-rata 4,5 bulan yang lalu terakhir membeli produk di perusahaan Olist. Dimana monetary nya cukup besar yaitu R$ 237,57. Rata-rata Frequency nya ada di angka 1,05.\n",
    "        * Segmen New Customers memiliki nilai Recency yang lebih kecil jika dibanding segmen Promising, yaitu 3 bulan. Monetary nya cukup kecil, hanya di angka R$ 51,67. Kemudian Frequency nya hanya bernilai 1,00.\n",
    "        * Segmen Cant Lose Them merupakan customer yang rata-rata 13,8 bulan tidak berbelanja di perusahaan Olist. Monetary nya sedikit diatas Promising yaitu di angka R$ 272,34. Sementara Frequency nya bernilai 1,04.\n",
    "\n",
    "\n",
    "\n"
   ]
  },
  {
   "cell_type": "markdown",
   "metadata": {},
   "source": [
    "### **5.2 Recommendation**"
   ]
  },
  {
   "cell_type": "markdown",
   "metadata": {},
   "source": [
    "1. Rekomendasi untuk data & modelling\n",
    "    * Mencoba melakukan feature engineering lebih advance (transformasi)\n",
    "    * Mencoba algoritma Machine Learning untuk unsupervise learning selain K-Means, DBSCAN, dan BIRCH yang mungkin dapat memberikan hasil metrik evaluasi, waktu pemrosesan, dan interpretasi yang lebih baik\n",
    "    \n",
    "2. Rekomendasi rencana bisnis kedepannya untuk perusahaan Olist\n",
    "    * Akan dilakukan marketing approach yang hanya difokuskan kepada pelanggan olist yang termasuk ke dalam segmen Cannot Lose Them, New Customers, dan Promising. Dimana pelanggan dari ketiga segmen ini memiliki jumlah yang lebih banyak dibandingkan segmen lainnya dan mungkin lebih berpotensi untuk menaikkan retention rate pelanggan Olist. Berikut simulasi Cost Reduction jika segmen lain diabaikan.\n",
    "        * Jumlah pelanggan olist yang termasuk ke dalam segmen Cannot Lose Them, New Customers, dan Promising sebesar 72575 dari total keseluruhan pelanggan sebanyak 96090\n",
    "        * Kita ambil contoh dalam **email marketing**. Berdasarkan getresponse.com ([source](https://www.getresponse.com/pricing)), Biaya yang diperlukan untuk melakukan email marketing pada 1000 email adalah $19 (Rp285.000). Sehingga bisa diperoleh biaya per email yaitu $0.019/email (Rp285/email). Selain itu, menurut mtarget.co ([source](https://mtarget.co/blog/statistik-email-marketing/)), 35% marketer mengirimkan email kepada customer mereka sebanyak 3-5 email per minggu. Sehingga dalam satu bulan tiap customer paling tidak akan menerima email sebanyak 12 email/bulan. Berikut tabel perhitungan untuk biaya marketing per bulan.\n",
    "        \n",
    "            <p> <p>\n",
    "            <figure>\n",
    "            <center><img src = \"https://raw.githubusercontent.com/aridiawan/ecommerce-analysis/main/img/simulasi-cost-saving.png\" alt =\"Scheme Data Table\"></center>\n",
    "            </figure>\n",
    "            <p> <p>\n",
    "\n",
    "            Jika dilakukan marketing approach hanya kepada 3 segmen, maka dalam waktu sebulan akan didapati total cost reduction sebesar **Rp80.421.300**. Perusahaan Olist dapat menghemat pengeluaran per bulannya untuk melakukan marketing approach sekitar 24,47% dari total pengeluaran sebesar Rp328.627.800 (jika dilakukan marketing approach kepada semua pelanggan).\n",
    "    \n",
    "    * Melakukan Action Plan menyesuaikan segmentasi ([bloomreach guidelines](https://documentation.bloomreach.com/engagement/docs/rfm-segmentation#rfm-segments)):\n",
    "        * **Promising**\n",
    "            * Customer segmen ini berisi orang-orang yang pernah berbelanja >1 kali di Olist, dan memiliki pengeluaran yang relatif tinggi\n",
    "            * Marketing approach yang bisa dilakukan adalah melalui **email marketing** karena keberhasilan nya 56% menurut [sumber](https://www.invespcro.com/blog/customer-acquisition-retention/)\n",
    "            * Kita akan memberikan kupon diskon dan bundling untuk kategori produk yang masuk ke 5 paling favorit, rekomendasi bundling:\n",
    "                * Health Beauty & Bed Bath Table: contohnya sabun mandi bundling dengan handuk\n",
    "                * Sport leisures & watches gift: contoh smartwatch bundling dengan sepatu lari/aksesoris lari\n",
    "        * **New Customers**\n",
    "            * Customer segmen ini berisi orang-orang yang baru berbelanja di Olist.\n",
    "            * Sehingga, kemungkinan besar belum lama menginstal aplikasi Olist di HP nya atau mereka baru-baru ini mengunjungi website Olist. Sehingga dirasa lebih cocok dilakukan marketing approaching menggunakan **Display & Mobile advertising**, dimana success rate nya 20% menurut [source](https://www.invespcro.com/blog/customer-acquisition-retention/).\n",
    "            * Kita akan memberikan diskon dan bundling untuk kategori produk yang masuk ke 5 paling favorit, rekomendasi bundling:\n",
    "                * Telephone & Electronics: contohnya charger bundling dengan stop kontak\n",
    "                * Health Beauty & Bed Bath Table: contohnya sabun mandi bundling dengan handuk\n",
    "        * **Cannot Lose Them**\n",
    "            * Customer segmen ini berisi orang-orang yang punya spending relatif tinggi, tapi sudah lama tidak belanja lagi di Olist\n",
    "            * Marketing approach yang bisa dilakukan adalah melalui **email marketing** karena keberhasilan nya 56% menurut [sumber](https://www.invespcro.com/blog/customer-acquisition-retention/)"
   ]
  }
 ],
 "metadata": {
  "language_info": {
   "name": "python"
  }
 },
 "nbformat": 4,
 "nbformat_minor": 2
}
