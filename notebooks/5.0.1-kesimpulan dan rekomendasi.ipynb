{
 "cells": [
  {
   "cell_type": "markdown",
   "metadata": {},
   "source": [
    "### **Kesimpulan**"
   ]
  },
  {
   "cell_type": "markdown",
   "metadata": {},
   "source": [
    "1. Kesimpulan untuk analisis segmentasi \n",
    "\n",
    "    * Hasil evaluasi cluster RFM: Sekitar 36,49% dari total pelanggan di perusahaan Olist yang diamati dari bulan September 2016 hingga Agustus 2018 merupakan segmen Promising, lalu diikuti dengan segmen New Customers & Cannot Lose Them dengan nilai masing-masing sebesar 19,63% & 19,41%. Total ketiga segmen ini adalah 75,53% dari total keseluruhan pelanggan. \n",
    "        * Segmen Promising merupakan customer dengan rata-rata 4,5 bulan yang lalu terakhir membeli produk di perusahaan Olist. Dimana monetary nya cukup besar yaitu R$ 237,57. Rata-rata Frequency nya ada di angka 1,05.\n",
    "        * Segmen New Customers memiliki nilai Recency yang lebih kecil jika dibanding segmen Promising, yaitu 3 bulan. Monetary nya cukup kecil, hanya di angka R$ 51,67. Kemudian Frequency nya hanya bernilai 1,00.\n",
    "        * Segmen Cant Lose Them merupakan customer yang rata-rata 13,8 bulan tidak berbelanja di perusahaan Olist. Monetary nya sedikit diatas Promising yaitu di angka R$ 272,34. Sementara Frequency nya bernilai 1,04.\n",
    "\n",
    "\n",
    "\n",
    "2. Kesimpulan untuk bisnis perusahaan Olist\n",
    "\n",
    "    * Terhitung sejak bulan September 2016 hingga Agustus 2018, sekitar 97% dari total pelanggan Olist hanya berbelanja 1x, diikuti dengan retention rate konsumen di perusahaan Olist sangat rendah, dimana pengguna baru yang melakukan transaksi berikutnya di bulan-bulan setelahnya tidak lebih dari 1%.\n"
   ]
  },
  {
   "cell_type": "markdown",
   "metadata": {},
   "source": [
    "### **Recommendation**"
   ]
  },
  {
   "cell_type": "markdown",
   "metadata": {},
   "source": [
    "1. Rekomendasi untuk data & modelling\n",
    "    * Mencoba algoritma Machine Learning lain untuk unsupervise learning selain K-Means, DBSCAN, dan BIRCH yang mungkin dapat memberikan hasil metrik evaluasi, waktu pemrosesan, dan interpretasi yang lebih baik\n",
    "    * Perusahaan Olist sebaiknya merekrut Data Engineer yang lebih ahli karena dataset yang ditemukan cukup \"dirty\" (banyak nilai yang hilang, data duplikat, dan kesalahan ketik).\n",
    "\n",
    "    \n",
    "2. Rekomendasi rencana bisnis kedepannya untuk perusahaan Olist\n",
    "    * Akan dilakukan marketing approach yang hanya difokuskan kepada pelanggan olist yang termasuk ke dalam segmen Cannot Lose Them, New Customers, dan Promising. Dimana pelanggan dari ketiga segmen ini memiliki jumlah yang lebih banyak dibandingkan segmen lainnya dan mungkin lebih berpotensi untuk menaikkan retention rate perusahan Olist. Berikut simulasi Cost Reduction jika segmen lain diabaikan.\n",
    "        * Jumlah pelanggan olist yang termasuk ke dalam segmen Cannot Lose Them, New Customers, dan Promising sebesar 72575 dari total keseluruhan pelanggan sebanyak 96090\n",
    "        * Kita ambil contoh dalam telemarketing. Dimana menurut laman salah satu operator seluler di Brasil [vivo.com](https://www.vivo.com.br/para-voce/comunicados/regulatorios/comunicado-reajuste-pre-pago) tarif telpon di jam kerja R$ 1,99 per menit. Sementara SMS R$ 0,15 per SMS. Menurut artikel dari [Ivosights](https://ivosights.com/read/artikel/memahami-prosedur-dalam-telemarketing), biasanya suatu perusahaan melakukan telepon 3-5 menit untuk satu pelanggan. Berikut tabel perhitungan untuk biaya marketing per bulan.\n",
    "            | No | Marketing Approach | Tarif | Per | Durasi / Berapa kali | Jumlah Pelanggan | Total Biaya |\n",
    "            | -- | -- | -- | -- | -- | -- | -- |\n",
    "            | 1 | Telepon | R$ 1,99 | 1 menit | 4 menit | 72575 orang | R$ 577697 |\n",
    "            | 2 | SMS | R$ 0,15 | 1x | 3x | 72575 orang | R$ 32658,75 |\n",
    "        Sehingga jika dilakukan marketing approach hanya kepada 3 segmen tersebut, maka dalam waktu sebulan akan didapati total cost reduction sebesar R$ 197761,15. Perusahaan Olist dapat menghemat pengeluaran per bulannya untuk melakukan marketing approach sekitar 24,47% dari total pengeluaran sebesar R$ 808116,9 (jika dilakukan marketing approach kepada semua pelanggan).\n",
    "    \n",
    "    * Menerapkan sistem Fraud Detection untuk mencegah terjadinya potensi penyalahgunaan credit card yang dapat berdampak pada hilangnya kepercayaan customer karena banyak pelanggan Olist yang melakukan pembayaran menggunakan credit card\n",
    "\n",
    "    * Memberikan promosi pada hari dengan aktivitas pemesanan tertinggi misal dengan cara pemberian voucher khusus & diskon yang berlaku pada pemesanan di hari kerja terutama hari Senin dan Selasa. \n",
    "\n",
    "    * Memberikan diskon untuk beberapa produk yang sering dibeli pelanggan yang termasuk ke dalam segmen New Customers, Promising, dan Cannot Lose Them, seperti health_beauty, telephony, bed_bath_table, dan sports_leisure\n",
    "\n",
    "\n",
    "    "
   ]
  }
 ],
 "metadata": {
  "language_info": {
   "name": "python"
  }
 },
 "nbformat": 4,
 "nbformat_minor": 2
}
