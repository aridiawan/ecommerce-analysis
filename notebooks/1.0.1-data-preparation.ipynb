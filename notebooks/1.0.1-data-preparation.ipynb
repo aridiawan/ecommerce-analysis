{
 "cells": [
  {
   "cell_type": "code",
   "execution_count": 4,
   "metadata": {},
   "outputs": [],
   "source": [
    "import pandas as pd\n",
    "import numpy as np\n",
    "\n",
    "import os\n",
    "import glob\n",
    "\n",
    "import re\n",
    "\n",
    "# pd.options.display.max_columns = None"
   ]
  },
  {
   "cell_type": "markdown",
   "metadata": {},
   "source": [
    "## Load Data"
   ]
  },
  {
   "cell_type": "code",
   "execution_count": 5,
   "metadata": {},
   "outputs": [
    {
     "data": {
      "text/plain": [
       "['D:\\\\PURWADHIKA\\\\FINAL PROJECT\\\\ecommerce-analysis\\\\data\\\\raw\\\\olist_customers_dataset.csv',\n",
       " 'D:\\\\PURWADHIKA\\\\FINAL PROJECT\\\\ecommerce-analysis\\\\data\\\\raw\\\\olist_geolocation_dataset.csv',\n",
       " 'D:\\\\PURWADHIKA\\\\FINAL PROJECT\\\\ecommerce-analysis\\\\data\\\\raw\\\\olist_orders_dataset.csv',\n",
       " 'D:\\\\PURWADHIKA\\\\FINAL PROJECT\\\\ecommerce-analysis\\\\data\\\\raw\\\\olist_order_items_dataset.csv',\n",
       " 'D:\\\\PURWADHIKA\\\\FINAL PROJECT\\\\ecommerce-analysis\\\\data\\\\raw\\\\olist_order_payments_dataset.csv',\n",
       " 'D:\\\\PURWADHIKA\\\\FINAL PROJECT\\\\ecommerce-analysis\\\\data\\\\raw\\\\olist_order_reviews_dataset.csv',\n",
       " 'D:\\\\PURWADHIKA\\\\FINAL PROJECT\\\\ecommerce-analysis\\\\data\\\\raw\\\\olist_products_dataset.csv',\n",
       " 'D:\\\\PURWADHIKA\\\\FINAL PROJECT\\\\ecommerce-analysis\\\\data\\\\raw\\\\olist_sellers_dataset.csv',\n",
       " 'D:\\\\PURWADHIKA\\\\FINAL PROJECT\\\\ecommerce-analysis\\\\data\\\\raw\\\\product_category_name_translation.csv']"
      ]
     },
     "execution_count": 5,
     "metadata": {},
     "output_type": "execute_result"
    }
   ],
   "source": [
    "mydir = r\"D:\\PURWADHIKA\\FINAL PROJECT\\ecommerce-analysis\\data\\raw\"\n",
    "\n",
    "file_list = glob.glob(mydir + \"\\*.csv\")\n",
    "file_list "
   ]
  },
  {
   "cell_type": "code",
   "execution_count": 6,
   "metadata": {},
   "outputs": [],
   "source": [
    "def efn(text):\n",
    "    file = text.split('\\\\')[-1].replace('.csv','')\n",
    "    return file"
   ]
  },
  {
   "cell_type": "code",
   "execution_count": 7,
   "metadata": {},
   "outputs": [],
   "source": [
    "dfs = {f'{efn(file)}_df': pd.read_csv(file) for file in file_list}"
   ]
  },
  {
   "cell_type": "code",
   "execution_count": 8,
   "metadata": {},
   "outputs": [
    {
     "name": "stdout",
     "output_type": "stream",
     "text": [
      "olist_customers_dataset_df\n",
      "olist_geolocation_dataset_df\n",
      "olist_orders_dataset_df\n",
      "olist_order_items_dataset_df\n",
      "olist_order_payments_dataset_df\n",
      "olist_order_reviews_dataset_df\n",
      "olist_products_dataset_df\n",
      "olist_sellers_dataset_df\n",
      "product_category_name_translation_df\n"
     ]
    }
   ],
   "source": [
    "for n in dfs.keys():\n",
    "    print(n)"
   ]
  },
  {
   "cell_type": "markdown",
   "metadata": {},
   "source": [
    "## Data Understanding"
   ]
  },
  {
   "cell_type": "code",
   "execution_count": 9,
   "metadata": {},
   "outputs": [
    {
     "data": {
      "text/html": [
       "<div>\n",
       "<style scoped>\n",
       "    .dataframe tbody tr th:only-of-type {\n",
       "        vertical-align: middle;\n",
       "    }\n",
       "\n",
       "    .dataframe tbody tr th {\n",
       "        vertical-align: top;\n",
       "    }\n",
       "\n",
       "    .dataframe thead th {\n",
       "        text-align: right;\n",
       "    }\n",
       "</style>\n",
       "<table border=\"1\" class=\"dataframe\">\n",
       "  <thead>\n",
       "    <tr style=\"text-align: right;\">\n",
       "      <th></th>\n",
       "      <th>dataset_name</th>\n",
       "      <th>shape</th>\n",
       "      <th>columns</th>\n",
       "      <th>duplicate</th>\n",
       "      <th>null</th>\n",
       "      <th>null_columns</th>\n",
       "    </tr>\n",
       "  </thead>\n",
       "  <tbody>\n",
       "    <tr>\n",
       "      <th>0</th>\n",
       "      <td>olist_customers_dataset_df</td>\n",
       "      <td>(99441, 5)</td>\n",
       "      <td>[customer_id, customer_unique_id, customer_zip...</td>\n",
       "      <td>0</td>\n",
       "      <td>0</td>\n",
       "      <td>[]</td>\n",
       "    </tr>\n",
       "    <tr>\n",
       "      <th>1</th>\n",
       "      <td>olist_geolocation_dataset_df</td>\n",
       "      <td>(1000163, 5)</td>\n",
       "      <td>[geolocation_zip_code_prefix, geolocation_lat,...</td>\n",
       "      <td>261831</td>\n",
       "      <td>0</td>\n",
       "      <td>[]</td>\n",
       "    </tr>\n",
       "    <tr>\n",
       "      <th>2</th>\n",
       "      <td>olist_orders_dataset_df</td>\n",
       "      <td>(99441, 8)</td>\n",
       "      <td>[order_id, customer_id, order_status, order_pu...</td>\n",
       "      <td>0</td>\n",
       "      <td>4908</td>\n",
       "      <td>[order_approved_at, order_delivered_carrier_da...</td>\n",
       "    </tr>\n",
       "    <tr>\n",
       "      <th>3</th>\n",
       "      <td>olist_order_items_dataset_df</td>\n",
       "      <td>(112650, 7)</td>\n",
       "      <td>[order_id, order_item_id, product_id, seller_i...</td>\n",
       "      <td>0</td>\n",
       "      <td>0</td>\n",
       "      <td>[]</td>\n",
       "    </tr>\n",
       "    <tr>\n",
       "      <th>4</th>\n",
       "      <td>olist_order_payments_dataset_df</td>\n",
       "      <td>(103886, 5)</td>\n",
       "      <td>[order_id, payment_sequential, payment_type, p...</td>\n",
       "      <td>0</td>\n",
       "      <td>0</td>\n",
       "      <td>[]</td>\n",
       "    </tr>\n",
       "    <tr>\n",
       "      <th>5</th>\n",
       "      <td>olist_order_reviews_dataset_df</td>\n",
       "      <td>(99224, 7)</td>\n",
       "      <td>[review_id, order_id, review_score, review_com...</td>\n",
       "      <td>0</td>\n",
       "      <td>145903</td>\n",
       "      <td>[review_comment_title, review_comment_message]</td>\n",
       "    </tr>\n",
       "    <tr>\n",
       "      <th>6</th>\n",
       "      <td>olist_products_dataset_df</td>\n",
       "      <td>(32951, 9)</td>\n",
       "      <td>[product_id, product_category_name, product_na...</td>\n",
       "      <td>0</td>\n",
       "      <td>2448</td>\n",
       "      <td>[product_category_name, product_name_lenght, p...</td>\n",
       "    </tr>\n",
       "    <tr>\n",
       "      <th>7</th>\n",
       "      <td>olist_sellers_dataset_df</td>\n",
       "      <td>(3095, 4)</td>\n",
       "      <td>[seller_id, seller_zip_code_prefix, seller_cit...</td>\n",
       "      <td>0</td>\n",
       "      <td>0</td>\n",
       "      <td>[]</td>\n",
       "    </tr>\n",
       "    <tr>\n",
       "      <th>8</th>\n",
       "      <td>product_category_name_translation_df</td>\n",
       "      <td>(71, 2)</td>\n",
       "      <td>[product_category_name, product_category_name_...</td>\n",
       "      <td>0</td>\n",
       "      <td>0</td>\n",
       "      <td>[]</td>\n",
       "    </tr>\n",
       "  </tbody>\n",
       "</table>\n",
       "</div>"
      ],
      "text/plain": [
       "                           dataset_name         shape   \n",
       "0            olist_customers_dataset_df    (99441, 5)  \\\n",
       "1          olist_geolocation_dataset_df  (1000163, 5)   \n",
       "2               olist_orders_dataset_df    (99441, 8)   \n",
       "3          olist_order_items_dataset_df   (112650, 7)   \n",
       "4       olist_order_payments_dataset_df   (103886, 5)   \n",
       "5        olist_order_reviews_dataset_df    (99224, 7)   \n",
       "6             olist_products_dataset_df    (32951, 9)   \n",
       "7              olist_sellers_dataset_df     (3095, 4)   \n",
       "8  product_category_name_translation_df       (71, 2)   \n",
       "\n",
       "                                             columns  duplicate    null   \n",
       "0  [customer_id, customer_unique_id, customer_zip...          0       0  \\\n",
       "1  [geolocation_zip_code_prefix, geolocation_lat,...     261831       0   \n",
       "2  [order_id, customer_id, order_status, order_pu...          0    4908   \n",
       "3  [order_id, order_item_id, product_id, seller_i...          0       0   \n",
       "4  [order_id, payment_sequential, payment_type, p...          0       0   \n",
       "5  [review_id, order_id, review_score, review_com...          0  145903   \n",
       "6  [product_id, product_category_name, product_na...          0    2448   \n",
       "7  [seller_id, seller_zip_code_prefix, seller_cit...          0       0   \n",
       "8  [product_category_name, product_category_name_...          0       0   \n",
       "\n",
       "                                        null_columns  \n",
       "0                                                 []  \n",
       "1                                                 []  \n",
       "2  [order_approved_at, order_delivered_carrier_da...  \n",
       "3                                                 []  \n",
       "4                                                 []  \n",
       "5     [review_comment_title, review_comment_message]  \n",
       "6  [product_category_name, product_name_lenght, p...  \n",
       "7                                                 []  \n",
       "8                                                 []  "
      ]
     },
     "execution_count": 9,
     "metadata": {},
     "output_type": "execute_result"
    }
   ],
   "source": [
    "dataInfo = []\n",
    "\n",
    "for n in dfs.keys():\n",
    "    dataInfo.append({\n",
    "        'dataset_name' : n,\n",
    "        'shape' : dfs[n].shape,\n",
    "        'columns' : list(dfs[n].columns),\n",
    "        'duplicate' : dfs[n].duplicated().sum(),\n",
    "        'null' : dfs[n].isna().sum().sum(),\n",
    "        'null_columns' : dfs[n].columns[dfs[n].isna().any()].tolist()\n",
    "    })\n",
    "\n",
    "pd.DataFrame(dataInfo)\n"
   ]
  },
  {
   "cell_type": "code",
   "execution_count": 10,
   "metadata": {},
   "outputs": [],
   "source": [
    "# skimming function\n",
    "\n",
    "def skim(data):\n",
    "    summary = pd.DataFrame({\n",
    "                    'column': data.columns.values,\n",
    "                    'type': data.dtypes.values,\n",
    "                    'n_unique': data.nunique().values,\n",
    "                    'n_missing': data.isna().sum().reset_index()[0],\n",
    "                    'pct_missing': round(data.isna().sum().reset_index()[0]/len(data)*100, 2),\n",
    "                    'min': data.dropna().min().values,\n",
    "                    'max': data.dropna().max().values\n",
    "                })\n",
    "    return summary"
   ]
  },
  {
   "cell_type": "markdown",
   "metadata": {},
   "source": [
    "**olist_customers_dataset_df**"
   ]
  },
  {
   "cell_type": "code",
   "execution_count": 11,
   "metadata": {},
   "outputs": [
    {
     "data": {
      "text/html": [
       "<div>\n",
       "<style scoped>\n",
       "    .dataframe tbody tr th:only-of-type {\n",
       "        vertical-align: middle;\n",
       "    }\n",
       "\n",
       "    .dataframe tbody tr th {\n",
       "        vertical-align: top;\n",
       "    }\n",
       "\n",
       "    .dataframe thead th {\n",
       "        text-align: right;\n",
       "    }\n",
       "</style>\n",
       "<table border=\"1\" class=\"dataframe\">\n",
       "  <thead>\n",
       "    <tr style=\"text-align: right;\">\n",
       "      <th></th>\n",
       "      <th>column</th>\n",
       "      <th>type</th>\n",
       "      <th>n_unique</th>\n",
       "      <th>n_missing</th>\n",
       "      <th>pct_missing</th>\n",
       "      <th>min</th>\n",
       "      <th>max</th>\n",
       "    </tr>\n",
       "  </thead>\n",
       "  <tbody>\n",
       "    <tr>\n",
       "      <th>0</th>\n",
       "      <td>customer_id</td>\n",
       "      <td>object</td>\n",
       "      <td>99441</td>\n",
       "      <td>0</td>\n",
       "      <td>0.0</td>\n",
       "      <td>00012a2ce6f8dcda20d059ce98491703</td>\n",
       "      <td>ffffe8b65bbe3087b653a978c870db99</td>\n",
       "    </tr>\n",
       "    <tr>\n",
       "      <th>1</th>\n",
       "      <td>customer_unique_id</td>\n",
       "      <td>object</td>\n",
       "      <td>96096</td>\n",
       "      <td>0</td>\n",
       "      <td>0.0</td>\n",
       "      <td>0000366f3b9a7992bf8c76cfdf3221e2</td>\n",
       "      <td>ffffd2657e2aad2907e67c3e9daecbeb</td>\n",
       "    </tr>\n",
       "    <tr>\n",
       "      <th>2</th>\n",
       "      <td>customer_zip_code_prefix</td>\n",
       "      <td>int64</td>\n",
       "      <td>14994</td>\n",
       "      <td>0</td>\n",
       "      <td>0.0</td>\n",
       "      <td>1003</td>\n",
       "      <td>99990</td>\n",
       "    </tr>\n",
       "    <tr>\n",
       "      <th>3</th>\n",
       "      <td>customer_city</td>\n",
       "      <td>object</td>\n",
       "      <td>4119</td>\n",
       "      <td>0</td>\n",
       "      <td>0.0</td>\n",
       "      <td>abadia dos dourados</td>\n",
       "      <td>zortea</td>\n",
       "    </tr>\n",
       "    <tr>\n",
       "      <th>4</th>\n",
       "      <td>customer_state</td>\n",
       "      <td>object</td>\n",
       "      <td>27</td>\n",
       "      <td>0</td>\n",
       "      <td>0.0</td>\n",
       "      <td>AC</td>\n",
       "      <td>TO</td>\n",
       "    </tr>\n",
       "  </tbody>\n",
       "</table>\n",
       "</div>"
      ],
      "text/plain": [
       "                     column    type  n_unique  n_missing  pct_missing   \n",
       "0               customer_id  object     99441          0          0.0  \\\n",
       "1        customer_unique_id  object     96096          0          0.0   \n",
       "2  customer_zip_code_prefix   int64     14994          0          0.0   \n",
       "3             customer_city  object      4119          0          0.0   \n",
       "4            customer_state  object        27          0          0.0   \n",
       "\n",
       "                                min                               max  \n",
       "0  00012a2ce6f8dcda20d059ce98491703  ffffe8b65bbe3087b653a978c870db99  \n",
       "1  0000366f3b9a7992bf8c76cfdf3221e2  ffffd2657e2aad2907e67c3e9daecbeb  \n",
       "2                              1003                             99990  \n",
       "3               abadia dos dourados                            zortea  \n",
       "4                                AC                                TO  "
      ]
     },
     "execution_count": 11,
     "metadata": {},
     "output_type": "execute_result"
    }
   ],
   "source": [
    "skim(dfs['olist_customers_dataset_df'])"
   ]
  },
  {
   "cell_type": "markdown",
   "metadata": {},
   "source": [
    "**olist_geolocation_dataset_df**"
   ]
  },
  {
   "cell_type": "markdown",
   "metadata": {},
   "source": [
    "**olist_orders_dataset_df**"
   ]
  },
  {
   "cell_type": "markdown",
   "metadata": {},
   "source": [
    "**olist_order_items_dataset_df**"
   ]
  },
  {
   "cell_type": "markdown",
   "metadata": {},
   "source": [
    "**olist_order_payments_dataset_df**"
   ]
  },
  {
   "cell_type": "markdown",
   "metadata": {},
   "source": [
    "**olist_order_reviews_dataset_df**"
   ]
  },
  {
   "cell_type": "markdown",
   "metadata": {},
   "source": [
    "**olist_products_dataset_df**"
   ]
  },
  {
   "cell_type": "code",
   "execution_count": 12,
   "metadata": {},
   "outputs": [
    {
     "data": {
      "text/html": [
       "<div>\n",
       "<style scoped>\n",
       "    .dataframe tbody tr th:only-of-type {\n",
       "        vertical-align: middle;\n",
       "    }\n",
       "\n",
       "    .dataframe tbody tr th {\n",
       "        vertical-align: top;\n",
       "    }\n",
       "\n",
       "    .dataframe thead th {\n",
       "        text-align: right;\n",
       "    }\n",
       "</style>\n",
       "<table border=\"1\" class=\"dataframe\">\n",
       "  <thead>\n",
       "    <tr style=\"text-align: right;\">\n",
       "      <th></th>\n",
       "      <th>column</th>\n",
       "      <th>type</th>\n",
       "      <th>n_unique</th>\n",
       "      <th>n_missing</th>\n",
       "      <th>pct_missing</th>\n",
       "      <th>min</th>\n",
       "      <th>max</th>\n",
       "    </tr>\n",
       "  </thead>\n",
       "  <tbody>\n",
       "    <tr>\n",
       "      <th>0</th>\n",
       "      <td>product_id</td>\n",
       "      <td>object</td>\n",
       "      <td>32951</td>\n",
       "      <td>0</td>\n",
       "      <td>0.00</td>\n",
       "      <td>00066f42aeeb9f3007548bb9d3f33c38</td>\n",
       "      <td>fffe9eeff12fcbd74a2f2b007dde0c58</td>\n",
       "    </tr>\n",
       "    <tr>\n",
       "      <th>1</th>\n",
       "      <td>product_category_name</td>\n",
       "      <td>object</td>\n",
       "      <td>73</td>\n",
       "      <td>610</td>\n",
       "      <td>1.85</td>\n",
       "      <td>agro_industria_e_comercio</td>\n",
       "      <td>utilidades_domesticas</td>\n",
       "    </tr>\n",
       "    <tr>\n",
       "      <th>2</th>\n",
       "      <td>product_name_lenght</td>\n",
       "      <td>float64</td>\n",
       "      <td>66</td>\n",
       "      <td>610</td>\n",
       "      <td>1.85</td>\n",
       "      <td>5.0</td>\n",
       "      <td>76.0</td>\n",
       "    </tr>\n",
       "    <tr>\n",
       "      <th>3</th>\n",
       "      <td>product_description_lenght</td>\n",
       "      <td>float64</td>\n",
       "      <td>2960</td>\n",
       "      <td>610</td>\n",
       "      <td>1.85</td>\n",
       "      <td>4.0</td>\n",
       "      <td>3992.0</td>\n",
       "    </tr>\n",
       "    <tr>\n",
       "      <th>4</th>\n",
       "      <td>product_photos_qty</td>\n",
       "      <td>float64</td>\n",
       "      <td>19</td>\n",
       "      <td>610</td>\n",
       "      <td>1.85</td>\n",
       "      <td>1.0</td>\n",
       "      <td>20.0</td>\n",
       "    </tr>\n",
       "    <tr>\n",
       "      <th>5</th>\n",
       "      <td>product_weight_g</td>\n",
       "      <td>float64</td>\n",
       "      <td>2204</td>\n",
       "      <td>2</td>\n",
       "      <td>0.01</td>\n",
       "      <td>0.0</td>\n",
       "      <td>40425.0</td>\n",
       "    </tr>\n",
       "    <tr>\n",
       "      <th>6</th>\n",
       "      <td>product_length_cm</td>\n",
       "      <td>float64</td>\n",
       "      <td>99</td>\n",
       "      <td>2</td>\n",
       "      <td>0.01</td>\n",
       "      <td>7.0</td>\n",
       "      <td>105.0</td>\n",
       "    </tr>\n",
       "    <tr>\n",
       "      <th>7</th>\n",
       "      <td>product_height_cm</td>\n",
       "      <td>float64</td>\n",
       "      <td>102</td>\n",
       "      <td>2</td>\n",
       "      <td>0.01</td>\n",
       "      <td>2.0</td>\n",
       "      <td>105.0</td>\n",
       "    </tr>\n",
       "    <tr>\n",
       "      <th>8</th>\n",
       "      <td>product_width_cm</td>\n",
       "      <td>float64</td>\n",
       "      <td>95</td>\n",
       "      <td>2</td>\n",
       "      <td>0.01</td>\n",
       "      <td>6.0</td>\n",
       "      <td>118.0</td>\n",
       "    </tr>\n",
       "  </tbody>\n",
       "</table>\n",
       "</div>"
      ],
      "text/plain": [
       "                       column     type  n_unique  n_missing  pct_missing   \n",
       "0                  product_id   object     32951          0         0.00  \\\n",
       "1       product_category_name   object        73        610         1.85   \n",
       "2         product_name_lenght  float64        66        610         1.85   \n",
       "3  product_description_lenght  float64      2960        610         1.85   \n",
       "4          product_photos_qty  float64        19        610         1.85   \n",
       "5            product_weight_g  float64      2204          2         0.01   \n",
       "6           product_length_cm  float64        99          2         0.01   \n",
       "7           product_height_cm  float64       102          2         0.01   \n",
       "8            product_width_cm  float64        95          2         0.01   \n",
       "\n",
       "                                min                               max  \n",
       "0  00066f42aeeb9f3007548bb9d3f33c38  fffe9eeff12fcbd74a2f2b007dde0c58  \n",
       "1         agro_industria_e_comercio             utilidades_domesticas  \n",
       "2                               5.0                              76.0  \n",
       "3                               4.0                            3992.0  \n",
       "4                               1.0                              20.0  \n",
       "5                               0.0                           40425.0  \n",
       "6                               7.0                             105.0  \n",
       "7                               2.0                             105.0  \n",
       "8                               6.0                             118.0  "
      ]
     },
     "execution_count": 12,
     "metadata": {},
     "output_type": "execute_result"
    }
   ],
   "source": [
    "skim(dfs['olist_products_dataset_df'])"
   ]
  },
  {
   "cell_type": "markdown",
   "metadata": {},
   "source": [
    "**olist_sellers_dataset_df**"
   ]
  },
  {
   "cell_type": "markdown",
   "metadata": {},
   "source": [
    "**product_category_name_translation_df**"
   ]
  }
 ],
 "metadata": {
  "kernelspec": {
   "display_name": "Python 3",
   "language": "python",
   "name": "python3"
  },
  "language_info": {
   "codemirror_mode": {
    "name": "ipython",
    "version": 3
   },
   "file_extension": ".py",
   "mimetype": "text/x-python",
   "name": "python",
   "nbconvert_exporter": "python",
   "pygments_lexer": "ipython3",
   "version": "3.9.13"
  },
  "orig_nbformat": 4
 },
 "nbformat": 4,
 "nbformat_minor": 2
}
