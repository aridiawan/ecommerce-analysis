{
 "cells": [
  {
   "cell_type": "code",
   "execution_count": 2,
   "metadata": {},
   "outputs": [],
   "source": [
    "import pandas as pd\n",
    "import numpy as np\n",
    "\n",
    "import os\n",
    "import glob\n",
    "\n",
    "import re\n",
    "\n",
    "pd.options.display.max_columns = None"
   ]
  },
  {
   "cell_type": "markdown",
   "metadata": {},
   "source": [
    "## **Data Understanding**\n",
    "\n",
    "Ini adalah dataset publik e-commerce Brasil dari pesanan yang dibuat di Olist Store. Dataset ini memiliki informasi dari 100 ribu pesanan dari tahun 2016 hingga 2018 yang dibuat di beberapa pasar di Brasil. Fitur-fiturnya memungkinkan untuk melihat pesanan dari berbagai dimensi: mulai dari status pesanan, harga, pembayaran, dan kinerja pengiriman hingga lokasi pelanggan, atribut produk, dan akhirnya ulasan yang ditulis oleh pelanggan. Selain itu ada juga dataset geolokasi yang menghubungkan kode pos Brasil dengan koordinat lintang/lintang."
   ]
  },
  {
   "cell_type": "markdown",
   "metadata": {},
   "source": [
    "### **Data Schema**\n",
    "\n",
    "Data dibagi dalam beberapa dataset. Skema data bisa dilihat pada gambar berikut:\n",
    "<p> <p>\n",
    "<figure>\n",
    "  <center><img src = \"https://raw.githubusercontent.com/aridiawan/ecommerce-analysis/main/data/raw/ERD.jpg\" alt =\"Scheme Data Table\" width = 900; height = 647></center>\n",
    "  <figcaption align = \"center\">Gambar 1. <em>Scheme Data</em> </figcaption>\n",
    "</figure>\n",
    "<p> <p>"
   ]
  },
  {
   "cell_type": "markdown",
   "metadata": {},
   "source": [
    "### **Feature Description**\n",
    "\n",
    "Berikut adalah fitur-fitur yang tersedia dalam dataset:\n",
    "<p> <p>\n",
    "<figure>\n",
    "  <center><img src = \"https://raw.githubusercontent.com/aridiawan/ecommerce-analysis/main/data/raw/Olist-Dataset-Description.jpg\" alt =\"Scheme Data Table\" width = 900; height = 1056></center>\n",
    "  <figcaption align = \"center\">Gambar 2. <em>Deskripsi Feature</em> </figcaption>\n",
    "</figure>\n",
    "<p> <p>"
   ]
  },
  {
   "cell_type": "markdown",
   "metadata": {},
   "source": [
    "## Load Data"
   ]
  },
  {
   "cell_type": "code",
   "execution_count": 3,
   "metadata": {},
   "outputs": [
    {
     "data": {
      "text/plain": [
       "['D:\\\\PURWADHIKA\\\\FINAL PROJECT\\\\ecommerce-analysis\\\\data\\\\raw\\\\olist_customers_dataset.csv',\n",
       " 'D:\\\\PURWADHIKA\\\\FINAL PROJECT\\\\ecommerce-analysis\\\\data\\\\raw\\\\olist_geolocation_dataset.csv',\n",
       " 'D:\\\\PURWADHIKA\\\\FINAL PROJECT\\\\ecommerce-analysis\\\\data\\\\raw\\\\olist_orders_dataset.csv',\n",
       " 'D:\\\\PURWADHIKA\\\\FINAL PROJECT\\\\ecommerce-analysis\\\\data\\\\raw\\\\olist_order_items_dataset.csv',\n",
       " 'D:\\\\PURWADHIKA\\\\FINAL PROJECT\\\\ecommerce-analysis\\\\data\\\\raw\\\\olist_order_payments_dataset.csv',\n",
       " 'D:\\\\PURWADHIKA\\\\FINAL PROJECT\\\\ecommerce-analysis\\\\data\\\\raw\\\\olist_order_reviews_dataset.csv',\n",
       " 'D:\\\\PURWADHIKA\\\\FINAL PROJECT\\\\ecommerce-analysis\\\\data\\\\raw\\\\olist_products_dataset.csv',\n",
       " 'D:\\\\PURWADHIKA\\\\FINAL PROJECT\\\\ecommerce-analysis\\\\data\\\\raw\\\\olist_sellers_dataset.csv',\n",
       " 'D:\\\\PURWADHIKA\\\\FINAL PROJECT\\\\ecommerce-analysis\\\\data\\\\raw\\\\product_category_name_translation.csv']"
      ]
     },
     "execution_count": 3,
     "metadata": {},
     "output_type": "execute_result"
    }
   ],
   "source": [
    "mydir = r\"D:\\PURWADHIKA\\FINAL PROJECT\\ecommerce-analysis\\data\\raw\"\n",
    "\n",
    "file_list = glob.glob(mydir + \"\\*.csv\")\n",
    "file_list "
   ]
  },
  {
   "cell_type": "code",
   "execution_count": 4,
   "metadata": {},
   "outputs": [],
   "source": [
    "def efn(text):\n",
    "    file = text.split('\\\\')[-1].replace('.csv','')\n",
    "    return file\n",
    "\n",
    "def white_string_to_nan(data):\n",
    "    return data.replace(r'^\\s*$', np.nan, regex=True)"
   ]
  },
  {
   "cell_type": "code",
   "execution_count": 5,
   "metadata": {},
   "outputs": [],
   "source": [
    "dfs = {f'{efn(file)}_df': white_string_to_nan(pd.read_csv(file, engine=\"pyarrow\")) for file in file_list}"
   ]
  },
  {
   "cell_type": "code",
   "execution_count": 6,
   "metadata": {},
   "outputs": [
    {
     "name": "stdout",
     "output_type": "stream",
     "text": [
      "olist_customers_dataset_df\n",
      "olist_geolocation_dataset_df\n",
      "olist_orders_dataset_df\n",
      "olist_order_items_dataset_df\n",
      "olist_order_payments_dataset_df\n",
      "olist_order_reviews_dataset_df\n",
      "olist_products_dataset_df\n",
      "olist_sellers_dataset_df\n",
      "product_category_name_translation_df\n"
     ]
    }
   ],
   "source": [
    "for n in dfs.keys():\n",
    "    print(n)"
   ]
  },
  {
   "cell_type": "code",
   "execution_count": 7,
   "metadata": {},
   "outputs": [
    {
     "data": {
      "text/html": [
       "<div>\n",
       "<style scoped>\n",
       "    .dataframe tbody tr th:only-of-type {\n",
       "        vertical-align: middle;\n",
       "    }\n",
       "\n",
       "    .dataframe tbody tr th {\n",
       "        vertical-align: top;\n",
       "    }\n",
       "\n",
       "    .dataframe thead th {\n",
       "        text-align: right;\n",
       "    }\n",
       "</style>\n",
       "<table border=\"1\" class=\"dataframe\">\n",
       "  <thead>\n",
       "    <tr style=\"text-align: right;\">\n",
       "      <th></th>\n",
       "      <th>dataset_name</th>\n",
       "      <th>shape</th>\n",
       "      <th>columns</th>\n",
       "      <th>duplicate</th>\n",
       "      <th>null</th>\n",
       "      <th>null_columns</th>\n",
       "    </tr>\n",
       "  </thead>\n",
       "  <tbody>\n",
       "    <tr>\n",
       "      <th>0</th>\n",
       "      <td>olist_customers_dataset_df</td>\n",
       "      <td>(99441, 5)</td>\n",
       "      <td>[customer_id, customer_unique_id, customer_zip...</td>\n",
       "      <td>0</td>\n",
       "      <td>0</td>\n",
       "      <td>[]</td>\n",
       "    </tr>\n",
       "    <tr>\n",
       "      <th>1</th>\n",
       "      <td>olist_geolocation_dataset_df</td>\n",
       "      <td>(1000163, 5)</td>\n",
       "      <td>[geolocation_zip_code_prefix, geolocation_lat,...</td>\n",
       "      <td>261831</td>\n",
       "      <td>0</td>\n",
       "      <td>[]</td>\n",
       "    </tr>\n",
       "    <tr>\n",
       "      <th>2</th>\n",
       "      <td>olist_orders_dataset_df</td>\n",
       "      <td>(99441, 8)</td>\n",
       "      <td>[order_id, customer_id, order_status, order_pu...</td>\n",
       "      <td>0</td>\n",
       "      <td>4908</td>\n",
       "      <td>[order_approved_at, order_delivered_carrier_da...</td>\n",
       "    </tr>\n",
       "    <tr>\n",
       "      <th>3</th>\n",
       "      <td>olist_order_items_dataset_df</td>\n",
       "      <td>(112650, 7)</td>\n",
       "      <td>[order_id, order_item_id, product_id, seller_i...</td>\n",
       "      <td>0</td>\n",
       "      <td>0</td>\n",
       "      <td>[]</td>\n",
       "    </tr>\n",
       "    <tr>\n",
       "      <th>4</th>\n",
       "      <td>olist_order_payments_dataset_df</td>\n",
       "      <td>(103886, 5)</td>\n",
       "      <td>[order_id, payment_sequential, payment_type, p...</td>\n",
       "      <td>0</td>\n",
       "      <td>0</td>\n",
       "      <td>[]</td>\n",
       "    </tr>\n",
       "    <tr>\n",
       "      <th>5</th>\n",
       "      <td>olist_order_reviews_dataset_df</td>\n",
       "      <td>(99224, 7)</td>\n",
       "      <td>[review_id, order_id, review_score, review_com...</td>\n",
       "      <td>0</td>\n",
       "      <td>145932</td>\n",
       "      <td>[review_comment_title, review_comment_message]</td>\n",
       "    </tr>\n",
       "    <tr>\n",
       "      <th>6</th>\n",
       "      <td>olist_products_dataset_df</td>\n",
       "      <td>(32951, 9)</td>\n",
       "      <td>[product_id, product_category_name, product_na...</td>\n",
       "      <td>0</td>\n",
       "      <td>2448</td>\n",
       "      <td>[product_category_name, product_name_lenght, p...</td>\n",
       "    </tr>\n",
       "    <tr>\n",
       "      <th>7</th>\n",
       "      <td>olist_sellers_dataset_df</td>\n",
       "      <td>(3095, 4)</td>\n",
       "      <td>[seller_id, seller_zip_code_prefix, seller_cit...</td>\n",
       "      <td>0</td>\n",
       "      <td>0</td>\n",
       "      <td>[]</td>\n",
       "    </tr>\n",
       "    <tr>\n",
       "      <th>8</th>\n",
       "      <td>product_category_name_translation_df</td>\n",
       "      <td>(71, 2)</td>\n",
       "      <td>[product_category_name, product_category_name_...</td>\n",
       "      <td>0</td>\n",
       "      <td>0</td>\n",
       "      <td>[]</td>\n",
       "    </tr>\n",
       "  </tbody>\n",
       "</table>\n",
       "</div>"
      ],
      "text/plain": [
       "                           dataset_name         shape   \n",
       "0            olist_customers_dataset_df    (99441, 5)  \\\n",
       "1          olist_geolocation_dataset_df  (1000163, 5)   \n",
       "2               olist_orders_dataset_df    (99441, 8)   \n",
       "3          olist_order_items_dataset_df   (112650, 7)   \n",
       "4       olist_order_payments_dataset_df   (103886, 5)   \n",
       "5        olist_order_reviews_dataset_df    (99224, 7)   \n",
       "6             olist_products_dataset_df    (32951, 9)   \n",
       "7              olist_sellers_dataset_df     (3095, 4)   \n",
       "8  product_category_name_translation_df       (71, 2)   \n",
       "\n",
       "                                             columns  duplicate    null   \n",
       "0  [customer_id, customer_unique_id, customer_zip...          0       0  \\\n",
       "1  [geolocation_zip_code_prefix, geolocation_lat,...     261831       0   \n",
       "2  [order_id, customer_id, order_status, order_pu...          0    4908   \n",
       "3  [order_id, order_item_id, product_id, seller_i...          0       0   \n",
       "4  [order_id, payment_sequential, payment_type, p...          0       0   \n",
       "5  [review_id, order_id, review_score, review_com...          0  145932   \n",
       "6  [product_id, product_category_name, product_na...          0    2448   \n",
       "7  [seller_id, seller_zip_code_prefix, seller_cit...          0       0   \n",
       "8  [product_category_name, product_category_name_...          0       0   \n",
       "\n",
       "                                        null_columns  \n",
       "0                                                 []  \n",
       "1                                                 []  \n",
       "2  [order_approved_at, order_delivered_carrier_da...  \n",
       "3                                                 []  \n",
       "4                                                 []  \n",
       "5     [review_comment_title, review_comment_message]  \n",
       "6  [product_category_name, product_name_lenght, p...  \n",
       "7                                                 []  \n",
       "8                                                 []  "
      ]
     },
     "execution_count": 7,
     "metadata": {},
     "output_type": "execute_result"
    }
   ],
   "source": [
    "dataInfo = []\n",
    "\n",
    "for n in dfs.keys():\n",
    "    dataInfo.append({\n",
    "        'dataset_name' : n,\n",
    "        'shape' : dfs[n].shape,\n",
    "        'columns' : list(dfs[n].columns),\n",
    "        'duplicate' : dfs[n].duplicated().sum(),\n",
    "        'null' : dfs[n].isna().sum().sum(),\n",
    "        'null_columns' : dfs[n].columns[dfs[n].isna().any()].tolist()\n",
    "    })\n",
    "\n",
    "pd.DataFrame(dataInfo)\n"
   ]
  },
  {
   "cell_type": "code",
   "execution_count": 18,
   "metadata": {},
   "outputs": [],
   "source": [
    "# skimming function\n",
    "\n",
    "def skim(data, name):\n",
    "    summary = {\n",
    "                'dataset' : name,\n",
    "                'column': data.columns.values,\n",
    "                'type': data.dtypes.values,\n",
    "                'n_unique': data.nunique().values,\n",
    "                'n_missing': data.isna().sum().reset_index()[0],\n",
    "                'pct_missing': round(data.isna().sum().reset_index()[0]/len(data)*100, 2),\n",
    "                'min': data.dropna().min().values,\n",
    "                'max': data.dropna().max().values\n",
    "                }\n",
    "    return summary"
   ]
  },
  {
   "cell_type": "code",
   "execution_count": 22,
   "metadata": {},
   "outputs": [
    {
     "data": {
      "text/plain": [
       "{'dataset': 'product_category_name_translation_df',\n",
       " 'column': array(['product_category_name', 'product_category_name_english'],\n",
       "       dtype=object),\n",
       " 'type': array([dtype('O'), dtype('O')], dtype=object),\n",
       " 'n_unique': array([71, 71], dtype=int64),\n",
       " 'n_missing': 0    0\n",
       " 1    0\n",
       " Name: 0, dtype: int64,\n",
       " 'pct_missing': 0    0.0\n",
       " 1    0.0\n",
       " Name: 0, dtype: float64,\n",
       " 'min': array(['agro_industria_e_comercio', 'agro_industry_and_commerce'],\n",
       "       dtype=object),\n",
       " 'max': array(['utilidades_domesticas', 'watches_gifts'], dtype=object)}"
      ]
     },
     "execution_count": 22,
     "metadata": {},
     "output_type": "execute_result"
    }
   ],
   "source": [
    "summ = []\n",
    "\n",
    "for n in dfs.keys():\n",
    "    summm = skim(dfs[n],n)\n",
    "\n",
    "summm"
   ]
  },
  {
   "cell_type": "markdown",
   "metadata": {},
   "source": [
    "**olist_customers_dataset_df**"
   ]
  },
  {
   "cell_type": "markdown",
   "metadata": {},
   "source": [
    "**olist_geolocation_dataset_df**"
   ]
  },
  {
   "cell_type": "markdown",
   "metadata": {},
   "source": [
    "**olist_orders_dataset_df**"
   ]
  },
  {
   "cell_type": "markdown",
   "metadata": {},
   "source": [
    "**olist_order_items_dataset_df**"
   ]
  },
  {
   "cell_type": "markdown",
   "metadata": {},
   "source": [
    "**olist_order_payments_dataset_df**"
   ]
  },
  {
   "cell_type": "markdown",
   "metadata": {},
   "source": [
    "**olist_order_reviews_dataset_df**"
   ]
  },
  {
   "cell_type": "markdown",
   "metadata": {},
   "source": [
    "**olist_products_dataset_df**"
   ]
  },
  {
   "cell_type": "markdown",
   "metadata": {},
   "source": [
    "**olist_sellers_dataset_df**"
   ]
  },
  {
   "cell_type": "markdown",
   "metadata": {},
   "source": [
    "**product_category_name_translation_df**"
   ]
  }
 ],
 "metadata": {
  "kernelspec": {
   "display_name": "Python 3",
   "language": "python",
   "name": "python3"
  },
  "language_info": {
   "codemirror_mode": {
    "name": "ipython",
    "version": 3
   },
   "file_extension": ".py",
   "mimetype": "text/x-python",
   "name": "python",
   "nbconvert_exporter": "python",
   "pygments_lexer": "ipython3",
   "version": "3.9.13"
  },
  "orig_nbformat": 4
 },
 "nbformat": 4,
 "nbformat_minor": 2
}
